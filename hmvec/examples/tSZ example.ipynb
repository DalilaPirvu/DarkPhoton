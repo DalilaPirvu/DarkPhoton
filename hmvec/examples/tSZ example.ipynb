{
 "cells": [
  {
   "cell_type": "code",
   "execution_count": 3,
   "metadata": {},
   "outputs": [
    {
     "name": "stdout",
     "output_type": "stream",
     "text": [
      "The autoreload extension is already loaded. To reload it, use:\n",
      "  %reload_ext autoreload\n"
     ]
    }
   ],
   "source": [
    "%load_ext autoreload\n",
    "%autoreload 2\n",
    "%matplotlib inline"
   ]
  },
  {
   "cell_type": "code",
   "execution_count": 4,
   "metadata": {},
   "outputs": [],
   "source": [
    "from __future__ import print_function\n",
    "import matplotlib.pyplot as plt\n",
    "from scipy.interpolate import interp1d\n",
    "from scipy.integrate import quad,simps\n",
    "import os,sys\n",
    "sys.path.append('../')\n",
    "import hmvec as hm # Git clone and pip install as in readme from github.com/msyriac/hmvec\n",
    "import numpy as np\n",
    "import scipy.constants as constants"
   ]
  },
  {
   "cell_type": "code",
   "execution_count": 5,
   "metadata": {},
   "outputs": [],
   "source": [
    "nMasses=100\n",
    "nZs=100"
   ]
  },
  {
   "cell_type": "code",
   "execution_count": 6,
   "metadata": {},
   "outputs": [],
   "source": [
    "zs = np.linspace(0.07,5,nZs) # redshifts\n",
    "ms = np.geomspace(2e10,1e17,nMasses) # masses\n",
    "ks = np.geomspace(1e-4,100,1001) # wavenumbers"
   ]
  },
  {
   "cell_type": "code",
   "execution_count": 7,
   "metadata": {},
   "outputs": [
    {
     "name": "stderr",
     "output_type": "stream",
     "text": [
      "/home/dpirvu/hmvec/examples/../hmvec/fft.py:90: RuntimeWarning: invalid value encountered in divide\n",
      "  uk = ukts/kts[None,None,:]/mnorm[...,None]\n"
     ]
    }
   ],
   "source": [
    "hcos = hm.HaloModel(zs,ks,ms=ms,mass_function='tinker',mdef='mean')\n",
    "hcos.add_battaglia_pres_profile(\"y\",family=\"pres\",xmax=2,nxs=30000)"
   ]
  },
  {
   "cell_type": "code",
   "execution_count": 8,
   "metadata": {},
   "outputs": [
    {
     "name": "stdout",
     "output_type": "stream",
     "text": [
      "Check the consistency relation for tSZ\n",
      "Check the consistency relation for tSZ\n"
     ]
    }
   ],
   "source": [
    "\n",
    "Pyy = hcos.get_power(\"y\",\"y\",verbose=False)"
   ]
  },
  {
   "cell_type": "code",
   "execution_count": 9,
   "metadata": {},
   "outputs": [],
   "source": [
    "ells = np.linspace(50,10000,100)\n",
    "Cyy = hcos.C_yy(ells,zs,ks,Pyy)"
   ]
  },
  {
   "cell_type": "code",
   "execution_count": 11,
   "metadata": {},
   "outputs": [
    {
     "data": {
      "text/plain": [
       "Text(0, 0.5, '$C_\\\\ell \\\\ell^2/(2 \\\\pi)$')"
      ]
     },
     "execution_count": 11,
     "metadata": {},
     "output_type": "execute_result"
    },
    {
     "data": {
      "image/png": "[encoded data removed]",
      "text/plain": [
       "<Figure size 432x288 with 1 Axes>"
      ]
     },
     "metadata": {
      "needs_background": "light"
     },
     "output_type": "display_data"
    }
   ],
   "source": [
    "plt.loglog(ells,ells**2*Cyy*hm.default_params['T_CMB']**2/2./np.pi)#*hm.default_params['T_CMB']**2\n",
    "plt.yscale('log') \n",
    "plt.xlim([200,10000])\n",
    "plt.xlabel('$\\ell$')\n",
    "plt.ylabel(\"$C_\\ell \\ell^2/(2 \\pi)$\")\n",
    "\n"
   ]
  },
  {
   "cell_type": "code",
   "execution_count": 12,
   "metadata": {},
   "outputs": [],
   "source": [
    "rhocritz=hcos.rho_critical_z(hcos.zs)\n",
    "delta_rhos1 = rhocritz*hcos.deltav(hcos.zs)\n",
    "\n",
    "rvirs = hcos.rvir(hcos.ms[None,:],hcos.zs[:,None])\n",
    "cs = hcos.concentration()\n",
    "delta_rhos2 = 200.*hcos.rho_critical_z(hcos.zs)\n",
    "m200critz = hm.mdelta_from_mdelta(hcos.ms,cs,delta_rhos1,delta_rhos2)*.7\n",
    "r200critz = hm.R_from_M(m200critz,hcos.rho_critical_z(hcos.zs)[:,None],delta=200.)*.7\n",
    "\n",
    "# Generate profiles\n",
    "\"\"\"\n",
    "The physical profile is rho(r) = f(2r/R200)\n",
    "We rescale this to f(x), so x = r/(R200/2) = r/rgs\n",
    "So rgs = R200/2 is the equivalent of rss in the NFW profile\n",
    "\"\"\"\n",
    "omb = hcos.p['ombh2'] / hcos.h**2.\n",
    "omm = hcos.om0\n",
    "presFunc = lambda x: hm.P_e_generic_x(x,m200critz[...,None],r200critz[...,None],\n",
    "                                  hcos.zs[:,None,None],omb,omm,rhocritz[...,None,None],\n",
    "                            alpha=hm.default_params['battaglia_pres_alpha'],\n",
    "                            gamma=hm.default_params['battaglia_pres_gamma'],\n",
    "                            P0_A0=hm.battaglia_defaults['pres']['P0_A0'],\n",
    "                            P0_alpham=hm.battaglia_defaults['pres']['P0_alpham'],\n",
    "                            P0_alphaz=hm.battaglia_defaults['pres']['P0_alphaz'],\n",
    "                            xc_A0=hm.battaglia_defaults['pres']['xc_A0'],\n",
    "                            xc_alpham=hm.battaglia_defaults['pres']['xc_alpham'],\n",
    "                            xc_alphaz=hm.battaglia_defaults['pres']['xc_alphaz'],\n",
    "                            beta_A0=hm.battaglia_defaults['pres']['beta_A0'],\n",
    "                            beta_alpham=hm.battaglia_defaults['pres']['beta_alpham'],\n",
    "                            beta_alphaz=hm.battaglia_defaults['pres']['beta_alphaz'])\n",
    "\n",
    "rhofunc = lambda x: hm.rho_gas_generic_x(x,m200critz[...,None],hcos.zs[:,None,None],omb,omm,rhocritz[...,None,None],\n",
    "                                    gamma=hm.default_params['battaglia_gas_gamma'],\n",
    "                                    rho0_A0=hm.battaglia_defaults['AGN']['rho0_A0'],\n",
    "                                    rho0_alpham=hm.battaglia_defaults['AGN']['rho0_alpham'],\n",
    "                                    rho0_alphaz=hm.battaglia_defaults['AGN']['rho0_alphaz'],\n",
    "                                    alpha_A0=hm.battaglia_defaults['AGN']['alpha_A0'],\n",
    "                                    alpha_alpham=hm.battaglia_defaults['AGN']['alpha_alpham'],\n",
    "                                    alpha_alphaz=hm.battaglia_defaults['AGN']['alpha_alphaz'],\n",
    "                                    beta_A0=hm.battaglia_defaults['AGN']['beta_A0'],\n",
    "                                    beta_alpham=hm.battaglia_defaults['AGN']['beta_alpham'],\n",
    "                                    beta_alphaz=hm.battaglia_defaults['AGN']['beta_alphaz'])"
   ]
  },
  {
   "cell_type": "code",
   "execution_count": 13,
   "metadata": {},
   "outputs": [],
   "source": [
    "sigmaT=constants.physical_constants['Thomson cross section'][0] # units m^2\n",
    "mElect=constants.physical_constants['electron mass'][0] #/ default_params['mSun']# units kg\n",
    "c_light = constants.c \n",
    "XH=.76\n",
    "eFrac=2.0*(XH+1.0)/(5.0*XH+3.0)\n",
    "G_newt = constants.G/(hm.default_params['parsec']*1e6)**3*hm.default_params['mSun']\n",
    "norm=eFrac*(omb/omm)*G_newt *200*rhocritz[...,None]*m200critz/(2*r200critz)"
   ]
  },
  {
   "cell_type": "code",
   "execution_count": 14,
   "metadata": {},
   "outputs": [],
   "source": [
    "tmpX=np.arange(0.03,4,.01)"
   ]
  },
  {
   "cell_type": "code",
   "execution_count": null,
   "metadata": {},
   "outputs": [],
   "source": [
    "\n",
    "plt.figure(figsize=(8,8))\n",
    "for i in range(0,nZs,5):\n",
    "    plt.loglog(tmpX,(presFunc(tmpX)/norm[...,None])[i,-20]*tmpX**3,label=\"{:.2f}\".format(zs[i]))\n",
    "plt.ylabel(\"$P/P_{200}  (r/r_{200})^3$\",fontsize=27)\n",
    "plt.xlabel('$r/r_{200}$',fontsize=27)\n",
    "plt.ylim([0.001,.2])\n",
    "plt.xlim([0.03,3])\n",
    "plt.legend()\n",
    "plt.show()\n",
    "\n",
    "plt.figure(figsize=(8,8))\n",
    "for i in range(30,nMasses,10):\n",
    "    plt.loglog(tmpX,(presFunc(tmpX)/norm[...,None])[0,i]*tmpX**3,label=\"{:.2E}\".format(ms[i]))\n",
    "plt.ylabel(\"$P/P_{200}  (r/r_{200})^3$\",fontsize=27)\n",
    "plt.xlabel('$r/r_{200}$',fontsize=27)\n",
    "plt.legend()\n",
    "plt.ylim([0.001,.2])\n",
    "plt.xlim([0.03,3])\n",
    "plt.show()"
   ]
  },
  {
   "cell_type": "code",
   "execution_count": null,
   "metadata": {},
   "outputs": [],
   "source": []
  }
 ],
 "metadata": {
  "kernelspec": {
   "display_name": "conda_env",
   "language": "python",
   "name": "conda_env"
  },
  "language_info": {
   "codemirror_mode": {
    "name": "ipython",
    "version": 3
   },
   "file_extension": ".py",
   "mimetype": "text/x-python",
   "name": "python",
   "nbconvert_exporter": "python",
   "pygments_lexer": "ipython3",
   "version": "3.8.13"
  }
 },
 "nbformat": 4,
 "nbformat_minor": 4
}
